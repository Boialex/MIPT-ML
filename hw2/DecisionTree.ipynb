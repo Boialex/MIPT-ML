{
 "cells": [
  {
   "cell_type": "code",
   "execution_count": 1,
   "metadata": {
    "collapsed": true
   },
   "outputs": [],
   "source": [
    "from sklearn import model_selection, datasets, metrics, tree\n",
    "import numpy as np\n",
    "import pandas as pd\n",
    "import matplotlib.pyplot as plt\n",
    "%matplotlib inline"
   ]
  },
  {
   "cell_type": "code",
   "execution_count": 2,
   "metadata": {
    "collapsed": false
   },
   "outputs": [
    {
     "name": "stdout",
     "output_type": "stream",
     "text": [
      "Boston House Prices dataset\n",
      "===========================\n",
      "\n",
      "Notes\n",
      "------\n",
      "Data Set Characteristics:  \n",
      "\n",
      "    :Number of Instances: 506 \n",
      "\n",
      "    :Number of Attributes: 13 numeric/categorical predictive\n",
      "    \n",
      "    :Median Value (attribute 14) is usually the target\n",
      "\n",
      "    :Attribute Information (in order):\n",
      "        - CRIM     per capita crime rate by town\n",
      "        - ZN       proportion of residential land zoned for lots over 25,000 sq.ft.\n",
      "        - INDUS    proportion of non-retail business acres per town\n",
      "        - CHAS     Charles River dummy variable (= 1 if tract bounds river; 0 otherwise)\n",
      "        - NOX      nitric oxides concentration (parts per 10 million)\n",
      "        - RM       average number of rooms per dwelling\n",
      "        - AGE      proportion of owner-occupied units built prior to 1940\n",
      "        - DIS      weighted distances to five Boston employment centres\n",
      "        - RAD      index of accessibility to radial highways\n",
      "        - TAX      full-value property-tax rate per $10,000\n",
      "        - PTRATIO  pupil-teacher ratio by town\n",
      "        - B        1000(Bk - 0.63)^2 where Bk is the proportion of blacks by town\n",
      "        - LSTAT    % lower status of the population\n",
      "        - MEDV     Median value of owner-occupied homes in $1000's\n",
      "\n",
      "    :Missing Attribute Values: None\n",
      "\n",
      "    :Creator: Harrison, D. and Rubinfeld, D.L.\n",
      "\n",
      "This is a copy of UCI ML housing dataset.\n",
      "http://archive.ics.uci.edu/ml/datasets/Housing\n",
      "\n",
      "\n",
      "This dataset was taken from the StatLib library which is maintained at Carnegie Mellon University.\n",
      "\n",
      "The Boston house-price data of Harrison, D. and Rubinfeld, D.L. 'Hedonic\n",
      "prices and the demand for clean air', J. Environ. Economics & Management,\n",
      "vol.5, 81-102, 1978.   Used in Belsley, Kuh & Welsch, 'Regression diagnostics\n",
      "...', Wiley, 1980.   N.B. Various transformations are used in the table on\n",
      "pages 244-261 of the latter.\n",
      "\n",
      "The Boston house-price data has been used in many machine learning papers that address regression\n",
      "problems.   \n",
      "     \n",
      "**References**\n",
      "\n",
      "   - Belsley, Kuh & Welsch, 'Regression diagnostics: Identifying Influential Data and Sources of Collinearity', Wiley, 1980. 244-261.\n",
      "   - Quinlan,R. (1993). Combining Instance-Based and Model-Based Learning. In Proceedings on the Tenth International Conference of Machine Learning, 236-243, University of Massachusetts, Amherst. Morgan Kaufmann.\n",
      "   - many more! (see http://archive.ics.uci.edu/ml/datasets/Housing)\n",
      "\n"
     ]
    }
   ],
   "source": [
    "boston = datasets.load_boston()\n",
    "print boston.DESCR"
   ]
  },
  {
   "cell_type": "code",
   "execution_count": 3,
   "metadata": {
    "collapsed": false
   },
   "outputs": [
    {
     "name": "stdout",
     "output_type": "stream",
     "text": [
      "feature names: ['CRIM' 'ZN' 'INDUS' 'CHAS' 'NOX' 'RM' 'AGE' 'DIS' 'RAD' 'TAX' 'PTRATIO'\n",
      " 'B' 'LSTAT']\n"
     ]
    }
   ],
   "source": [
    "print \"feature names: {}\".format(boston.feature_names)"
   ]
  },
  {
   "cell_type": "code",
   "execution_count": 4,
   "metadata": {
    "collapsed": false
   },
   "outputs": [
    {
     "data": {
      "text/html": [
       "<div>\n",
       "<table border=\"1\" class=\"dataframe\">\n",
       "  <thead>\n",
       "    <tr style=\"text-align: right;\">\n",
       "      <th></th>\n",
       "      <th>CRIM</th>\n",
       "      <th>ZN</th>\n",
       "      <th>INDUS</th>\n",
       "      <th>CHAS</th>\n",
       "      <th>NOX</th>\n",
       "      <th>RM</th>\n",
       "      <th>AGE</th>\n",
       "      <th>DIS</th>\n",
       "      <th>RAD</th>\n",
       "      <th>TAX</th>\n",
       "      <th>PTRATIO</th>\n",
       "      <th>B</th>\n",
       "      <th>LSTAT</th>\n",
       "      <th>target</th>\n",
       "    </tr>\n",
       "  </thead>\n",
       "  <tbody>\n",
       "    <tr>\n",
       "      <th>0</th>\n",
       "      <td>0.00632</td>\n",
       "      <td>18.0</td>\n",
       "      <td>2.31</td>\n",
       "      <td>0.0</td>\n",
       "      <td>0.538</td>\n",
       "      <td>6.575</td>\n",
       "      <td>65.2</td>\n",
       "      <td>4.0900</td>\n",
       "      <td>1.0</td>\n",
       "      <td>296.0</td>\n",
       "      <td>15.3</td>\n",
       "      <td>396.90</td>\n",
       "      <td>4.98</td>\n",
       "      <td>24.0</td>\n",
       "    </tr>\n",
       "    <tr>\n",
       "      <th>1</th>\n",
       "      <td>0.02731</td>\n",
       "      <td>0.0</td>\n",
       "      <td>7.07</td>\n",
       "      <td>0.0</td>\n",
       "      <td>0.469</td>\n",
       "      <td>6.421</td>\n",
       "      <td>78.9</td>\n",
       "      <td>4.9671</td>\n",
       "      <td>2.0</td>\n",
       "      <td>242.0</td>\n",
       "      <td>17.8</td>\n",
       "      <td>396.90</td>\n",
       "      <td>9.14</td>\n",
       "      <td>21.6</td>\n",
       "    </tr>\n",
       "    <tr>\n",
       "      <th>2</th>\n",
       "      <td>0.02729</td>\n",
       "      <td>0.0</td>\n",
       "      <td>7.07</td>\n",
       "      <td>0.0</td>\n",
       "      <td>0.469</td>\n",
       "      <td>7.185</td>\n",
       "      <td>61.1</td>\n",
       "      <td>4.9671</td>\n",
       "      <td>2.0</td>\n",
       "      <td>242.0</td>\n",
       "      <td>17.8</td>\n",
       "      <td>392.83</td>\n",
       "      <td>4.03</td>\n",
       "      <td>34.7</td>\n",
       "    </tr>\n",
       "    <tr>\n",
       "      <th>3</th>\n",
       "      <td>0.03237</td>\n",
       "      <td>0.0</td>\n",
       "      <td>2.18</td>\n",
       "      <td>0.0</td>\n",
       "      <td>0.458</td>\n",
       "      <td>6.998</td>\n",
       "      <td>45.8</td>\n",
       "      <td>6.0622</td>\n",
       "      <td>3.0</td>\n",
       "      <td>222.0</td>\n",
       "      <td>18.7</td>\n",
       "      <td>394.63</td>\n",
       "      <td>2.94</td>\n",
       "      <td>33.4</td>\n",
       "    </tr>\n",
       "    <tr>\n",
       "      <th>4</th>\n",
       "      <td>0.06905</td>\n",
       "      <td>0.0</td>\n",
       "      <td>2.18</td>\n",
       "      <td>0.0</td>\n",
       "      <td>0.458</td>\n",
       "      <td>7.147</td>\n",
       "      <td>54.2</td>\n",
       "      <td>6.0622</td>\n",
       "      <td>3.0</td>\n",
       "      <td>222.0</td>\n",
       "      <td>18.7</td>\n",
       "      <td>396.90</td>\n",
       "      <td>5.33</td>\n",
       "      <td>36.2</td>\n",
       "    </tr>\n",
       "  </tbody>\n",
       "</table>\n",
       "</div>"
      ],
      "text/plain": [
       "      CRIM    ZN  INDUS  CHAS    NOX     RM   AGE     DIS  RAD    TAX  \\\n",
       "0  0.00632  18.0   2.31   0.0  0.538  6.575  65.2  4.0900  1.0  296.0   \n",
       "1  0.02731   0.0   7.07   0.0  0.469  6.421  78.9  4.9671  2.0  242.0   \n",
       "2  0.02729   0.0   7.07   0.0  0.469  7.185  61.1  4.9671  2.0  242.0   \n",
       "3  0.03237   0.0   2.18   0.0  0.458  6.998  45.8  6.0622  3.0  222.0   \n",
       "4  0.06905   0.0   2.18   0.0  0.458  7.147  54.2  6.0622  3.0  222.0   \n",
       "\n",
       "   PTRATIO       B  LSTAT  target  \n",
       "0     15.3  396.90   4.98    24.0  \n",
       "1     17.8  396.90   9.14    21.6  \n",
       "2     17.8  392.83   4.03    34.7  \n",
       "3     18.7  394.63   2.94    33.4  \n",
       "4     18.7  396.90   5.33    36.2  "
      ]
     },
     "execution_count": 4,
     "metadata": {},
     "output_type": "execute_result"
    }
   ],
   "source": [
    "boston_frame = pd.DataFrame(boston.data)\n",
    "boston_frame.columns = boston.feature_names\n",
    "boston_frame['target'] = boston.target\n",
    "boston_frame.head()"
   ]
  },
  {
   "cell_type": "code",
   "execution_count": 5,
   "metadata": {
    "collapsed": true
   },
   "outputs": [],
   "source": [
    "X, y = boston_frame.iloc[:, :-1], boston_frame.iloc[:, -1]"
   ]
  },
  {
   "cell_type": "code",
   "execution_count": 6,
   "metadata": {
    "collapsed": false
   },
   "outputs": [],
   "source": [
    "# as said - 25% last for test\n",
    "train_len = int(0.75 * len(X) + 0.5)\n",
    "X_train, X_test = X.iloc[:train_len], X.iloc[train_len:]\n",
    "y_train, y_test = y.iloc[:train_len], y.iloc[train_len:]"
   ]
  },
  {
   "cell_type": "markdown",
   "metadata": {},
   "source": [
    "## Теперь реализуем класс"
   ]
  },
  {
   "cell_type": "markdown",
   "metadata": {},
   "source": [
    "Так как решается задача регрессии, то будем использовать MSE."
   ]
  },
  {
   "cell_type": "code",
   "execution_count": 7,
   "metadata": {
    "collapsed": false
   },
   "outputs": [],
   "source": [
    "class Tree(object):\n",
    "    def __init__(self, indices, feature=0, threshold=0.):\n",
    "        self.indices = np.array(indices)\n",
    "        self.left, self.right = None, None\n",
    "        self.feature = feature\n",
    "        self.threshold = threshold\n",
    "        \n",
    "        \n",
    "def H(R):\n",
    "    if len(R) == 0:\n",
    "        return 10.**300\n",
    "    R = np.array(R)\n",
    "    mean = R.mean()\n",
    "    return 1./len(R) * ((R - mean)**2).sum()\n",
    "        \n",
    "\n",
    "class DecisionTree(object):\n",
    "    def __init__(self, max_depth=None):\n",
    "        self.root = None\n",
    "        self.max_depth = max_depth\n",
    "    \n",
    "    def fit(self, X, y):\n",
    "        if isinstance(X, pd.DataFrame):\n",
    "            self.X = X.values\n",
    "        else:\n",
    "            self.X = X\n",
    "        if isinstance(y, pd.DataFrame):\n",
    "            self.y = y.values\n",
    "        else:\n",
    "            self.y = np.array(y)\n",
    "        indices = range(X.shape[0])\n",
    "        self.root = Tree(indices)\n",
    "        self.devide(self.root, 0)\n",
    "        \n",
    "    def predict(self, X):\n",
    "        X = X.values\n",
    "        y_pred = np.zeros(X.shape[0], dtype='float64')\n",
    "        for i, x in enumerate(X):\n",
    "            vertex = self.root\n",
    "            while vertex.left is not None:\n",
    "                if x[vertex.feature] < vertex.threshold:\n",
    "                    vertex = vertex.left\n",
    "                else:\n",
    "                    vertex = vertex.right\n",
    "            y_pred[i] = np.mean(self.y[vertex.indices])\n",
    "        return y_pred\n",
    "    \n",
    "    def devide(self, vertex, depth):\n",
    "        if vertex is None:\n",
    "            return\n",
    "        if self.max_depth is not None and depth == self.max_depth:\n",
    "            return    \n",
    "        Q_min = 10.**(300)\n",
    "        feature_best = 0\n",
    "        threshold_best = 0.\n",
    "        indices = vertex.indices\n",
    "        for j in xrange(self.X.shape[1]):\n",
    "            feature_j = self.X.T[j]\n",
    "            for t in sorted(feature_j[indices]):\n",
    "                left_indices = indices[feature_j[indices] < t]\n",
    "                right_indices = indices[feature_j[indices] >= t]\n",
    "                \n",
    "                left_H = H(self.y[left_indices])\n",
    "                right_H = H(self.y[right_indices])\n",
    "                \n",
    "                Q = 1./len(indices) * (len(left_indices) * left_H + \n",
    "                                       len(right_indices) * right_H)\n",
    "                if Q < Q_min:\n",
    "                    threshold_best = t\n",
    "                    feature_best = j\n",
    "                    Q_min = Q\n",
    "                    \n",
    "        vertex.feature = feature_best\n",
    "        vertex.threshold = threshold_best\n",
    "        \n",
    "        left_indices = indices[(self.X.T[feature_best])[indices] < threshold_best]\n",
    "        right_indices = indices[(self.X.T[feature_best])[indices] >= threshold_best]\n",
    "        if len(left_indices) == 0 or len(right_indices) == 0:\n",
    "            return \n",
    "        vertex.left = Tree(left_indices)\n",
    "        vertex.right = Tree(right_indices)\n",
    "        \n",
    "        self.devide(vertex.left, depth + 1)\n",
    "        self.devide(vertex.right, depth + 1)"
   ]
  },
  {
   "cell_type": "code",
   "execution_count": 8,
   "metadata": {
    "collapsed": false
   },
   "outputs": [],
   "source": [
    "model = DecisionTree(max_depth=3)\n",
    "model.fit(X_train, y_train)"
   ]
  },
  {
   "cell_type": "code",
   "execution_count": 9,
   "metadata": {
    "collapsed": false
   },
   "outputs": [],
   "source": [
    "y_pred = model.predict(X_test)"
   ]
  },
  {
   "cell_type": "code",
   "execution_count": 10,
   "metadata": {
    "collapsed": false
   },
   "outputs": [
    {
     "name": "stdout",
     "output_type": "stream",
     "text": [
      "depth = 3, MSE = 36.8636037849\n"
     ]
    }
   ],
   "source": [
    "print 'depth = 3, MSE =', metrics.mean_squared_error(y_test, y_pred)"
   ]
  },
  {
   "cell_type": "code",
   "execution_count": 11,
   "metadata": {
    "collapsed": false
   },
   "outputs": [
    {
     "name": "stdout",
     "output_type": "stream",
     "text": [
      "without limitations on depth MSE = 48.546031746\n"
     ]
    }
   ],
   "source": [
    "model = DecisionTree()\n",
    "model.fit(X_train, y_train)\n",
    "y_pred = model.predict(X_test)\n",
    "print 'without limitations on depth MSE =', metrics.mean_squared_error(y_test, y_pred)"
   ]
  },
  {
   "cell_type": "code",
   "execution_count": 12,
   "metadata": {
    "collapsed": false
   },
   "outputs": [
    {
     "name": "stdout",
     "output_type": "stream",
     "text": [
      "sklearn tree with max_depth = 3, MSE = 29.392685357\n"
     ]
    }
   ],
   "source": [
    "model = tree.DecisionTreeRegressor(max_depth=3)\n",
    "model.fit(X_train, y_train)\n",
    "y_pred = model.predict(X_test)\n",
    "print 'sklearn tree with max_depth = 3, MSE =', metrics.mean_squared_error(y_test, y_pred)"
   ]
  },
  {
   "cell_type": "code",
   "execution_count": 13,
   "metadata": {
    "collapsed": false
   },
   "outputs": [
    {
     "name": "stdout",
     "output_type": "stream",
     "text": [
      "for constant prediction mean y MSE = 129.991482421\n"
     ]
    }
   ],
   "source": [
    "y_const = [np.mean(y_train)] * len(y_test)\n",
    "error_const = metrics.mean_squared_error(y_test, y_const)\n",
    "print 'for constant prediction mean y MSE =', error_const"
   ]
  },
  {
   "cell_type": "code",
   "execution_count": 14,
   "metadata": {
    "collapsed": false
   },
   "outputs": [],
   "source": [
    "depths = np.arange(1, 20, 1)\n",
    "errors = []\n",
    "sklearn_errors = []\n",
    "for depth in depths:\n",
    "    model = DecisionTree(max_depth=depth)\n",
    "    model.fit(X_train, y_train)\n",
    "    errors += [metrics.mean_squared_error(y_test, model.predict(X_test))]\n",
    "    model = tree.DecisionTreeRegressor(max_depth=depth)\n",
    "    model.fit(X_train, y_train)\n",
    "    sklearn_errors += [metrics.mean_squared_error(y_test, model.predict(X_test))]"
   ]
  },
  {
   "cell_type": "code",
   "execution_count": 15,
   "metadata": {
    "collapsed": false
   },
   "outputs": [
    {
     "data": {
      "image/png": "[encoded data removed]",
      "text/plain": [
       "<matplotlib.figure.Figure at 0x7f2246688cd0>"
      ]
     },
     "metadata": {},
     "output_type": "display_data"
    }
   ],
   "source": [
    "plt.figure(figsize=(14, 8))\n",
    "plt.title('MSE(depth)')\n",
    "plt.plot(depths, errors, label='DecisionTree')\n",
    "plt.plot(depths, [error_const] * len(depths), label='$MSE(y_{pred}(x) = \\overline{y})$')\n",
    "plt.plot(depths, sklearn_errors, label='sklearn')\n",
    "plt.xlabel('depth')\n",
    "plt.ylabel('MSE')\n",
    "plt.grid(True)\n",
    "plt.legend(loc='best')\n",
    "plt.show()"
   ]
  },
  {
   "cell_type": "markdown",
   "metadata": {
    "collapsed": true
   },
   "source": [
    "Посмотрим на средние значения y на train и test."
   ]
  },
  {
   "cell_type": "code",
   "execution_count": 16,
   "metadata": {
    "collapsed": false
   },
   "outputs": [
    {
     "name": "stdout",
     "output_type": "stream",
     "text": [
      "25.0352631579 14.9857142857\n"
     ]
    }
   ],
   "source": [
    "print np.mean(y_train), np.mean(y_test)"
   ]
  },
  {
   "cell_type": "markdown",
   "metadata": {},
   "source": [
    "Как видно, они очень сильно отличаются, поэтому предсказывая качество по ПОСЛЕДНИМ 25% мы получаем не очень хорошие результаты.\n",
    "\n",
    "Попробуем предсказывать по рандомным 25%."
   ]
  },
  {
   "cell_type": "code",
   "execution_count": 17,
   "metadata": {
    "collapsed": true
   },
   "outputs": [],
   "source": [
    "X_train, X_test, y_train, y_test = model_selection.train_test_split(X, y, test_size=0.25)"
   ]
  },
  {
   "cell_type": "code",
   "execution_count": 18,
   "metadata": {
    "collapsed": false
   },
   "outputs": [],
   "source": [
    "model = DecisionTree(max_depth=4)\n",
    "model.fit(X_train, y_train)"
   ]
  },
  {
   "cell_type": "code",
   "execution_count": 19,
   "metadata": {
    "collapsed": false
   },
   "outputs": [],
   "source": [
    "y_pred = model.predict(X_test)"
   ]
  },
  {
   "cell_type": "code",
   "execution_count": 20,
   "metadata": {
    "collapsed": false
   },
   "outputs": [
    {
     "name": "stdout",
     "output_type": "stream",
     "text": [
      "depth = 4, MSE = 15.208418438\n"
     ]
    }
   ],
   "source": [
    "print 'depth = 4, MSE =', metrics.mean_squared_error(y_test, y_pred)"
   ]
  },
  {
   "cell_type": "code",
   "execution_count": 21,
   "metadata": {
    "collapsed": false
   },
   "outputs": [
    {
     "name": "stdout",
     "output_type": "stream",
     "text": [
      "without limitations on depth MSE = 13.817007874\n"
     ]
    }
   ],
   "source": [
    "model = DecisionTree()\n",
    "model.fit(X_train, y_train)\n",
    "y_pred = model.predict(X_test)\n",
    "print 'without limitations on depth MSE =', metrics.mean_squared_error(y_test, y_pred)"
   ]
  },
  {
   "cell_type": "code",
   "execution_count": 22,
   "metadata": {
    "collapsed": false
   },
   "outputs": [
    {
     "name": "stdout",
     "output_type": "stream",
     "text": [
      "sklearn tree with max_depth = 4, MSE = 15.7510633494\n"
     ]
    }
   ],
   "source": [
    "model = tree.DecisionTreeRegressor(max_depth=4)\n",
    "model.fit(X_train, y_train)\n",
    "y_pred = model.predict(X_test)\n",
    "print 'sklearn tree with max_depth = 4, MSE =', metrics.mean_squared_error(y_test, y_pred)"
   ]
  },
  {
   "cell_type": "code",
   "execution_count": 23,
   "metadata": {
    "collapsed": false
   },
   "outputs": [
    {
     "name": "stdout",
     "output_type": "stream",
     "text": [
      "for constant prediction mean y MSE = 94.6325544409\n"
     ]
    }
   ],
   "source": [
    "y_const = [np.mean(y_train)] * len(y_test)\n",
    "error_const = metrics.mean_squared_error(y_test, y_const)\n",
    "print 'for constant prediction mean y MSE =', error_const"
   ]
  },
  {
   "cell_type": "code",
   "execution_count": 24,
   "metadata": {
    "collapsed": false,
    "scrolled": true
   },
   "outputs": [],
   "source": [
    "depths = np.arange(1, 20, 1)\n",
    "errors = []\n",
    "sklearn_errors = []\n",
    "for depth in depths:\n",
    "    model = DecisionTree(max_depth=depth)\n",
    "    model.fit(X_train, y_train)\n",
    "    errors += [metrics.mean_squared_error(y_test, model.predict(X_test))]\n",
    "    model = tree.DecisionTreeRegressor(max_depth=depth)\n",
    "    model.fit(X_train, y_train)\n",
    "    sklearn_errors += [metrics.mean_squared_error(y_test, model.predict(X_test))]"
   ]
  },
  {
   "cell_type": "code",
   "execution_count": 25,
   "metadata": {
    "collapsed": false
   },
   "outputs": [
    {
     "data": {
      "image/png": "[encoded data removed]",
      "text/plain": [
       "<matplotlib.figure.Figure at 0x7f22429de490>"
      ]
     },
     "metadata": {},
     "output_type": "display_data"
    }
   ],
   "source": [
    "plt.figure(figsize=(14, 8))\n",
    "plt.title('MSE(depth)')\n",
    "plt.plot(depths, errors, label='DecisionTree')\n",
    "plt.plot(depths, [error_const] * len(depths), label='$MSE(y_{pred}(x) = \\overline{y})$')\n",
    "plt.plot(depths, sklearn_errors, label='sklearn')\n",
    "plt.xlabel('depth')\n",
    "plt.ylabel('MSE')\n",
    "plt.grid(True)\n",
    "plt.legend(loc='best')\n",
    "plt.show()"
   ]
  }
 ],
 "metadata": {
  "kernelspec": {
   "display_name": "Python 2",
   "language": "python",
   "name": "python2"
  },
  "language_info": {
   "codemirror_mode": {
    "name": "ipython",
    "version": 2
   },
   "file_extension": ".py",
   "mimetype": "text/x-python",
   "name": "python",
   "nbconvert_exporter": "python",
   "pygments_lexer": "ipython2",
   "version": "2.7.13"
  }
 },
 "nbformat": 4,
 "nbformat_minor": 2
}
