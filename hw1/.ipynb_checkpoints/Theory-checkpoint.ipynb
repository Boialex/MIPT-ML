{
 "cells": [
  {
   "cell_type": "markdown",
   "metadata": {},
   "source": [
    "# 4.1 Наивный байес и центроидный классификатор"
   ]
  },
  {
   "cell_type": "markdown",
   "metadata": {},
   "source": [
    "По условию $$P(x^{(k)} \\mid y) = \\frac {1}{\\sqrt{2 \\cdot \\pi \\cdot \\sigma^2}} \\cdot e^{\\frac {-(x^{(k)} - \\mu_{yk})^2}{2\\cdot \\sigma^2}}$$\n",
    "Так как мы рассматриваем байесовский классификатор, то $y(x) = \\underset{y}{\\mathrm{argmax}}  P(y \\mid x)$, где $x = (x^{1}, \\dots, x^{n}), y$ - ответ (номер класса 0 или 1) на элементе $x$.\n",
    "\n",
    "Применяя формулу Байеса $y(x) = \\underset{y}{\\mathrm{argmax}} P(x \\mid y) \\cdot P(y)$, но так как по условию распределения всех классов равны, то итоговая формула принимает вид: $$ y(x) = \\underset{y}{\\mathrm{argmax}} P(x \\mid y)$$\n",
    "Так как рассматривается наивный байес, то компоненты $x$ описываются независимо, т.е. $P(x \\mid y) = {\\displaystyle \\prod_{k=1}^{n} P(x^{(k)} \\mid y)}$\n",
    "\n",
    "$$\\begin{equation}\n",
    "\\begin{aligned}\n",
    "y(x) = \\underset{y}{\\mathrm{argmax}} P(x \\mid y) =  \\\\\n",
    "  & = \\underset{y}{\\mathrm{argmax}} \\left( {\\displaystyle \\prod_{k=1}^{n} P(x^{(k)} \\mid y)} \\right)  \\\\ \n",
    "  & = \\underset{y}{\\mathrm{argmax}} \\left( \\frac {1}{(2\\cdot \\pi \\sigma^2)^{\\frac {n}{2}}} \\cdot e^{-\\frac {{\\displaystyle \\sum_{k=1}^{n} (x^{(k)} - \\mu_{yk})^2}}{2\\cdot \\sigma^2}} \\right)  \\\\\n",
    "  & = \\underset{y}{\\mathrm{argmax}} \\left( \\frac {1}{(2\\cdot \\pi \\sigma^2)^{\\frac {n}{2}}} \\cdot e^{-\\frac {\\rho(x, \\mu_y)^2}{2\\cdot \\sigma^2}} \\right)  \\\\\n",
    "  & \\\\\n",
    "  & = \\underset{y}{\\mathrm{argmin}} (\\rho(x, \\mu_y))\n",
    "\\end{aligned}\n",
    "\\end{equation}$$\n",
    "Выше использовалось, что $\\rho(x, y) = \\sqrt{ {\\displaystyle \\sum_{k=1}^{n} (x^{(k)} - y^{(k)})^2}}$\n",
    "\n",
    "Таким образом ответом будет $ y(x) = \\underset{y}{\\mathrm{argmin}} (\\rho(x, \\mu_y))$, т.е. $y$, центр которого $\\mu_y$ ближе всего к $x$. Ч.Т.Д."
   ]
  },
  {
   "cell_type": "markdown",
   "metadata": {},
   "source": [
    "# 4.2 ROC-AUC случайных ответов"
   ]
  },
  {
   "cell_type": "markdown",
   "metadata": {},
   "source": [
    "По условию классификатор выдает $1$ с вероятностью $p$, $0$ с вероятностью $1-p$.\n",
    "\n",
    "Пусть выборка размера $n$, $n_1$ - элементов $1$-го класса, $n_0$ - $2$-го, $n = n_1 + n_0$.\n",
    "\n",
    "Тогда классификатор выдаст $p \\cdot n$ \"$1$\" и $(1-p)\\cdot n$ \"$0$\". \n",
    "\n",
    "$$ TP + FP = p \\cdot n, \\\\TP + FN = n_1$$\n",
    "\n",
    "где TP - True Positive, FN - False Negative, FP - False Positive, TN - True Negative.\n",
    "\n",
    "По определению ROC кривая строится в координатах $TPR = \\frac {TP}{TP + FN} = \\frac {TP}{n_1}$, $FPR = \\frac {FP}{FP + TN} = \\frac {FP}{n_0}$.\n",
    "\n",
    "Так как классификатор выдает только 0 или 1, то кривая - ломаная через 3 точки: $(0, 0), (TPR, FPR)_{p, n, n_1, n_0}, (1, 1)$\n",
    "\n",
    "Поэтому площадь будет равна сумме площадей треугольника и трапеции и равна:\n",
    "\n",
    "$$ \n",
    "\\begin{equation}\n",
    "\\begin{aligned}\n",
    "S = S_1 + S_2 = \\\\\n",
    " & = \\frac {1}{2} \\cdot \\left[ FPR \\cdot TPR + (1 + FPR) \\cdot (1 - TPR)\\right] = \\\\\n",
    " & = \\frac {1}{2} \\cdot (1 + FPR - TPR) \\\\\n",
    " & = \\frac {1}{2} \\cdot \\left(1 - \\frac {TP}{n_1} + \\frac {FP}{n_0} \\right) \\\\\n",
    " & = \\frac {1}{2} \\cdot \\left(1 - \\frac {TP \\cdot n_0 - FP \\cdot n_1}{n_0 \\cdot n_1} \\right) \\\\\n",
    " & = \\frac {1}{2} \\cdot \\left(1 - \\frac {TP \\cdot n_0 - (p\\cdot n - TP) \\cdot n_1}{n_0 \\cdot n_1}  \\right) \\\\\n",
    " & = \\frac {1}{2} \\cdot \\left(1 - \\frac {TP \\cdot n - p \\cdot n \\cdot n_1}{n_0 \\cdot n_1}  \\right) \\\\\n",
    " & = \\frac {1}{2} \\cdot \\left(1 - \\frac {n \\cdot (TP - p \\cdot n_1)}{n_0 \\cdot n_1}  \\right) \\\\\n",
    " & = \\frac {1}{2} \\cdot \\left(1 - 0 \\right) \\\\\n",
    " & = \\frac {1}{2} \\\\\n",
    "\\end{aligned} \n",
    "\\end{equation} \n",
    "$$\n",
    "\n",
    "Выше использовалось, что в среднем $TP = p \\cdot n_1$.\n",
    "\n",
    "Таким образом $S = ROC-AUC = \\frac {1}{2}$. Ч.Т.Д."
   ]
  },
  {
   "cell_type": "markdown",
   "metadata": {},
   "source": [
    "# 4.3 Ошибка 1NN и оптимального байесовского классификатора"
   ]
  },
  {
   "cell_type": "markdown",
   "metadata": {},
   "source": [
    "Байесовский классификатор отвечает: \n",
    "\n",
    "$1$, если $P(1 \\mid x) > P(0 \\mid x)$ \n",
    "\n",
    "$0$, если $P(0 \\mid x) > P(1 \\mid x)$\n",
    "\n",
    "Поэтому матожидание ошибки байесовского классификатора:\n",
    "\n",
    "$$ E_B(x) = \\min \\left[ P(0 \\mid x), P(1 \\mid x) \\right] $$ \n",
    "\n",
    "Для 1NN классификатора матожидание ошибки:\n",
    "\n",
    "$$ E_N(x) = P(y \\neq y_n) $$\n",
    "\n",
    "где y - настоящий класс x, $y_n$ - класс ближайшего соседа $x_n$ к элементу x.\n",
    "\n",
    "$$\n",
    "\\begin{equation}\n",
    "\\begin{aligned}\n",
    "E_N(x) = P(y \\neq y_n) = \\\\\n",
    " & = P(y = 0, y_n = 1) + P(y = 1, y_n = 0) \\\\\n",
    " & = P(0 \\mid x) \\cdot P(1 \\mid x_n) + P(1 \\mid x) \\cdot P(0 \\mid x_n) \\\\\n",
    " & = \\text{воспользуемся асимптотическим приближением} x_n \\rightarrow x \\\\\n",
    " & = 2 \\cdot P(0 \\mid x) \\cdot P(1 \\mid x) \\\\\n",
    " & = 2 \\cdot (1 - E_B(x)) \\cdot E_B(x) \\\\\n",
    " & = 2 \\cdot E_B(x) - 2 \\cdot (E_B(x))^2 \\\\\n",
    " & \\leq 2 \\cdot E_B(x)\n",
    "\\end{aligned}\n",
    "\\end{equation}\n",
    "$$\n",
    "\n",
    "С другой стороны, очевидно, что $2 \\cdot (1 - E_B(x)) \\cdot E_B(x) \\geq \\frac{1}{2}$, поэтому \n",
    "\n",
    "$$ E_B \\leq \\ \\underset{N \\rightarrow \\infty }{\\mathrm{lim}} E_N \\leq 2 \\cdot E_B $$ "
   ]
  },
  {
   "cell_type": "code",
   "execution_count": null,
   "metadata": {
    "collapsed": true
   },
   "outputs": [],
   "source": []
  }
 ],
 "metadata": {
  "anaconda-cloud": {},
  "kernelspec": {
   "display_name": "Python [conda root]",
   "language": "python",
   "name": "conda-root-py"
  },
  "language_info": {
   "codemirror_mode": {
    "name": "ipython",
    "version": 2
   },
   "file_extension": ".py",
   "mimetype": "text/x-python",
   "name": "python",
   "nbconvert_exporter": "python",
   "pygments_lexer": "ipython2",
   "version": "2.7.12"
  }
 },
 "nbformat": 4,
 "nbformat_minor": 1
}
